{
 "cells": [
  {
   "cell_type": "markdown",
   "id": "understood-lingerie",
   "metadata": {},
   "source": [
    "# Big Data and Data Analytics - Lab Project 3\n",
    "This lab project covers the material from Lectures 1-7. Please make yourself familiar with the lecture content before proceeding. We will be using the [**Boston**](https://www.cs.toronto.edu/~delve/data/boston/bostonDetail.html) housing dataset courtesy of D. Harrison and D. L. Rubinfeld at the University of Toronto.\n",
    "\n",
    "**<u>How to complete</u>**:\n",
    "- For each exercise, read the objective and hint, and then fill the cells containing **TODO**. These will usually be code cells requiring you to write Python code. If we ask you to explain something in your own words, these may also be Markdown cells.\n",
    "- Do not modify any cells except for the ones containing **TODO**.\n",
    "- Do not add or delete any cells from the notebook. If you add any cells during your work, please remove them before submitting.\n",
    "- Allowed libraries are imported below. No additional libraries may be used for this lab project.\n",
    "- **Run all cells before submitting. You will only get marks for code that has been run, and has not produced any errors.**"
   ]
  },
  {
   "cell_type": "code",
   "execution_count": 307,
   "id": "coral-legislature",
   "metadata": {},
   "outputs": [],
   "source": [
    "import pandas as pd\n",
    "import numpy as np\n",
    "import matplotlib.pyplot as plt\n",
    "import statsmodels.formula.api as smf"
   ]
  },
  {
   "cell_type": "markdown",
   "id": "located-april",
   "metadata": {},
   "source": [
    "If there are any errors during the import above, you may need to install the allowed libraries."
   ]
  },
  {
   "cell_type": "markdown",
   "id": "dense-torture",
   "metadata": {},
   "source": [
    "## Exercise 1: Dataset Import and Preparation (0.5 marks)"
   ]
  },
  {
   "cell_type": "markdown",
   "id": "annual-moore",
   "metadata": {},
   "source": [
    "### Exercise 1.1 (0.5 marks)\n",
    "- Load the dataset `Housing.csv` into a pandas `DataFrame` named `df_housing`.\n",
    "- Investigate whether there are rows affected by missing values in `df_housing` and `print` your results to the console. If any rows are affected by missing values, remove these from `df_housing`.\n",
    "\n",
    "Hint: Look at the functions [`pd.read_csv`](https://pandas.pydata.org/pandas-docs/stable/reference/api/pandas.read_csv.html), [`pd.isnull`](https://pandas.pydata.org/docs/reference/api/pandas.isnull.html) and [`pd.DataFrame.any`](https://pandas.pydata.org/docs/reference/api/pandas.DataFrame.any.html)."
   ]
  },
  {
   "cell_type": "code",
   "execution_count": 308,
   "id": "turkish-living",
   "metadata": {},
   "outputs": [
    {
     "name": "stdout",
     "output_type": "stream",
     "text": [
      "<bound method NDFrame._add_numeric_operations.<locals>.any of         ID   CRIM     ZN  INDUS   CHAS    NOX     RM    AGE    DIS    RAD  \\\n",
      "0    False  False  False  False  False  False  False  False  False  False   \n",
      "1    False  False  False  False  False  False  False  False  False  False   \n",
      "2    False  False  False  False  False  False  False  False  False  False   \n",
      "3    False  False  False  False  False  False  False  False  False  False   \n",
      "4    False  False  False  False  False  False  False  False  False  False   \n",
      "..     ...    ...    ...    ...    ...    ...    ...    ...    ...    ...   \n",
      "501  False  False  False  False  False  False  False  False  False  False   \n",
      "502  False  False  False  False  False  False  False  False  False  False   \n",
      "503  False  False  False  False  False  False  False  False  False  False   \n",
      "504  False  False  False  False  False  False  False  False  False  False   \n",
      "505  False  False  False  False  False  False  False  False  False  False   \n",
      "\n",
      "       TAX  PTRATIO  LSTAT   MEDV  \n",
      "0    False    False  False  False  \n",
      "1    False    False  False  False  \n",
      "2    False    False  False  False  \n",
      "3    False    False  False  False  \n",
      "4    False    False  False  False  \n",
      "..     ...      ...    ...    ...  \n",
      "501  False    False  False  False  \n",
      "502  False    False  False  False  \n",
      "503  False    False  False  False  \n",
      "504  False    False  False  False  \n",
      "505  False    False  False  False  \n",
      "\n",
      "[506 rows x 14 columns]>\n"
     ]
    }
   ],
   "source": [
    "df_housing= pd.read_csv(\"Housing.csv\")\n",
    "print(df_housing.isna().any)\n",
    "df_housing = df_housing.dropna()"
   ]
  },
  {
   "cell_type": "markdown",
   "id": "architectural-roads",
   "metadata": {},
   "source": [
    "## Exercise 2: Regression (5 marks)"
   ]
  },
  {
   "cell_type": "markdown",
   "id": "ranging-laptop",
   "metadata": {},
   "source": [
    "### Exercise 2.1 (2 marks)\n",
    "- Perform a multiple linear regression that regresses `MEDV` on `CRIM` (per capita crime rate by town), `RM` (average number of rooms per dwelling), `NOX` (nitric oxides concentration; parts per 10 million), `DIS` (weighted distances to five Boston employment centres), and `AGE` (proportion of owner- occupied units built prior to 1940). Save the model as `res_1`.\n",
    "- `print` the results of the regression `res_1` to the console (including a regression table and reporting of F-values).\n",
    "- Interpret the results of the regression `res_1` in your own words according to APA style. This includes which parts of the model are significant and what impact they have on `MEDV`.\n",
    "\n",
    "Hint: Use [`statsmodels.formula.api.ols`](https://www.statsmodels.org/stable/generated/statsmodels.formula.api.ols.html#statsmodels.formula.api.ols) to perform the regression. `statsmodels.formula.api` has been imported above as `smf`."
   ]
  },
  {
   "cell_type": "code",
   "execution_count": 309,
   "id": "equal-outline",
   "metadata": {
    "scrolled": true
   },
   "outputs": [
    {
     "name": "stdout",
     "output_type": "stream",
     "text": [
      "                            OLS Regression Results                            \n",
      "==============================================================================\n",
      "Dep. Variable:                   MEDV   R-squared:                       0.592\n",
      "Model:                            OLS   Adj. R-squared:                  0.588\n",
      "Method:                 Least Squares   F-statistic:                     145.3\n",
      "Date:                Sun, 10 Oct 2021   Prob (F-statistic):           5.02e-95\n",
      "Time:                        21:06:50   Log-Likelihood:                -1613.2\n",
      "No. Observations:                 506   AIC:                             3238.\n",
      "Df Residuals:                     500   BIC:                             3264.\n",
      "Df Model:                           5                                         \n",
      "Covariance Type:            nonrobust                                         \n",
      "==============================================================================\n",
      "                 coef    std err          t      P>|t|      [0.025      0.975]\n",
      "------------------------------------------------------------------------------\n",
      "Intercept     -6.2273      4.015     -1.551      0.122     -14.115       1.660\n",
      "CRIM          -0.2081      0.034     -6.113      0.000      -0.275      -0.141\n",
      "RM             7.7353      0.395     19.562      0.000       6.958       8.512\n",
      "NOX          -18.0509      3.947     -4.573      0.000     -25.806     -10.296\n",
      "DIS           -1.1910      0.217     -5.495      0.000      -1.617      -0.765\n",
      "AGE           -0.0666      0.015     -4.400      0.000      -0.096      -0.037\n",
      "==============================================================================\n",
      "Omnibus:                      224.972   Durbin-Watson:                   0.772\n",
      "Prob(Omnibus):                  0.000   Jarque-Bera (JB):             1646.316\n",
      "Skew:                           1.781   Prob(JB):                         0.00\n",
      "Kurtosis:                      11.087   Cond. No.                     1.46e+03\n",
      "==============================================================================\n",
      "\n",
      "Notes:\n",
      "[1] Standard Errors assume that the covariance matrix of the errors is correctly specified.\n",
      "[2] The condition number is large, 1.46e+03. This might indicate that there are\n",
      "strong multicollinearity or other numerical problems.\n",
      "AIC =  3238.3833047276967\n"
     ]
    }
   ],
   "source": [
    "res_1 = smf.ols('MEDV ~ CRIM + RM + NOX + DIS + AGE', data=df_housing) #OLS model\n",
    "res_1 = res_1.fit()\n",
    "print(res_1.summary())\n",
    "print('AIC = ',res_1.aic)"
   ]
  },
  {
   "cell_type": "markdown",
   "id": "informative-athletics",
   "metadata": {},
   "source": [
    "In our OLS model we are testing for relationships between MEDV and 5 other predictor variables. We observe a significant negative relationship across the predictor variables excluding RM, which holds a significant positive relationship. For every '1' value increase in CRIM, NOX, DIS and AGE, we see a decrease in value for MEDV, validated by a p-value of less than 0.000 across all predictors. RM exhibits a positive coefficient relationship where for every '1' value increase, we see a 7.7 unit increase in MEDV. \n",
    "\n",
    "The t-statistic shows that each of these coefficient relationships is sufficiently far away enough from the SE to be classified as significant. Furthermore, we observe a very large F-statistic sufficiently far away from the value of 1 to reject the null hypothesis. The single predictor variable RM represents the most significant relationship with MEDV with a t-statistic value of 19.562. We can explain approximately 60% of the total variance within this model with the R-squared statistic, which accounts for a reasonable amount of noise."
   ]
  },
  {
   "cell_type": "markdown",
   "id": "confidential-avenue",
   "metadata": {},
   "source": [
    "### Exercise 2.2 (1 mark)\n",
    "- Add a new categorical column to `df_housing` called `NOXCAT`. This column categorizes the suburbs into towns with `LOW`, `MEDIUM`, and `HIGH` nitric oxides concentration (based on the variable `NOX`). The categorization should be based on quantiles of `NOX` as follows:\n",
    "    - LOW (NOX <= 30% quantile)\n",
    "    - MEDIUM (> 30% quantile; <= 70% quantile)\n",
    "    - HIGH (> 70% quantile).\n",
    "- Create a boxplot that shows `MEDV` for the different values of `NOXCAT` (`LOW`, `MEDIUM`, `HIGH`). Use appropriate titels for the plot and its axes. \n",
    "\n",
    "Hint: You can use either numpy [`np.quantile`](https://numpy.org/doc/stable/reference/generated/numpy.quantile.html) or pandas [`pd.DataFrame.quantile`](https://pandas.pydata.org/docs/reference/api/pandas.DataFrame.quantile.html) to compute the quantiles. Besides that, hints from previous exercises/lab projects may be helpful."
   ]
  },
  {
   "cell_type": "code",
   "execution_count": 310,
   "id": "monetary-weather",
   "metadata": {
    "scrolled": true
   },
   "outputs": [
    {
     "data": {
      "image/png": "[encoded data removed]",
      "text/plain": [
       "<Figure size 720x360 with 1 Axes>"
      ]
     },
     "metadata": {
      "needs_background": "light"
     },
     "output_type": "display_data"
    }
   ],
   "source": [
    "df_housing = df_housing.assign(NOXCAT = pd.cut(df_housing.NOX, bins=[0,.3,.7,1], right=False, labels=['LOW','MEDIUM','HIGH']))\n",
    "\n",
    "plotlabels = ['LOW', 'MEDIUM', 'HIGH']\n",
    "plotdata = [df_housing[df_housing['NOXCAT']==label]['MEDV'] for label in plotlabels]\n",
    "plt.figure(figsize=(10, 5)) # Specify figure size\n",
    "plt.boxplot(plotdata, labels=plotlabels, vert=True, widths=0.5, zorder=3) # Box plot\n",
    "plt.xlabel('NOXCAT') # Set the label for the x axis\n",
    "plt.ylabel('MEDV') # Set the label for the y axis\n",
    "plt.title('\"MEDV\" attribute by \"NOXCAT\" category') # Set the figure title\n",
    "plt.grid(zorder=0) # Add grid\n",
    "plt.show()"
   ]
  },
  {
   "cell_type": "markdown",
   "id": "impressive-desert",
   "metadata": {},
   "source": [
    "### Exercise 2.3 (2 marks)\n",
    "The newly created column `NOXCAT` in `df_housing` is a categorical column with three possible values (`LOW`, `MEDIUM`, and `HIGH`). \n",
    "- Create a set of dummy variables (for different values of `NOXCAT`).\n",
    "- Regress `MEDV` on the different `NOX` categories using the dummy variables. Choose the dummy variable coding in your regression such that the intercept reflects the `MEDV` value of suburbs in the `MEDIUM` category. Save the regression result as `res_2` and `print` the regression result to the console.\n",
    "- Report the regression results from `res_2` in your own words according to APA stype and interpret the coefficients.\n",
    "\n",
    "Hint: Look at [`pd.get_dummies`](https://pandas.pydata.org/docs/reference/api/pandas.get_dummies.html)."
   ]
  },
  {
   "cell_type": "code",
   "execution_count": 311,
   "id": "indoor-stand",
   "metadata": {
    "scrolled": false
   },
   "outputs": [
    {
     "name": "stdout",
     "output_type": "stream",
     "text": [
      "                            OLS Regression Results                            \n",
      "==============================================================================\n",
      "Dep. Variable:                   MEDV   R-squared:                       0.099\n",
      "Model:                            OLS   Adj. R-squared:                  0.097\n",
      "Method:                 Least Squares   F-statistic:                     55.26\n",
      "Date:                Sun, 10 Oct 2021   Prob (F-statistic):           4.55e-13\n",
      "Time:                        21:06:51   Log-Likelihood:                -1813.9\n",
      "No. Observations:                 506   AIC:                             3632.\n",
      "Df Residuals:                     504   BIC:                             3640.\n",
      "Df Model:                           1                                         \n",
      "Covariance Type:            nonrobust                                         \n",
      "==============================================================================\n",
      "                 coef    std err          t      P>|t|      [0.025      0.975]\n",
      "------------------------------------------------------------------------------\n",
      "Intercept     23.7092      0.420     56.516      0.000      22.885      24.533\n",
      "dummy_HIGH    -8.2675      1.112     -7.434      0.000     -10.453      -6.083\n",
      "dummy_LOW           0          0        nan        nan           0           0\n",
      "==============================================================================\n",
      "Omnibus:                       90.010   Durbin-Watson:                   0.585\n",
      "Prob(Omnibus):                  0.000   Jarque-Bera (JB):              152.609\n",
      "Skew:                           1.067   Prob(JB):                     7.27e-34\n",
      "Kurtosis:                       4.638   Cond. No.                          inf\n",
      "==============================================================================\n",
      "\n",
      "Notes:\n",
      "[1] Standard Errors assume that the covariance matrix of the errors is correctly specified.\n",
      "[2] The smallest eigenvalue is      0. This might indicate that there are\n",
      "strong multicollinearity problems or that the design matrix is singular.\n"
     ]
    },
    {
     "name": "stderr",
     "output_type": "stream",
     "text": [
      "C:\\Users\\Owner\\anaconda3\\lib\\site-packages\\statsmodels\\regression\\linear_model.py:1860: RuntimeWarning: divide by zero encountered in double_scalars\n",
      "  return np.sqrt(eigvals[0]/eigvals[-1])\n"
     ]
    }
   ],
   "source": [
    "df_housing = pd.concat([df_housing, pd.get_dummies(df_housing['NOXCAT'],prefix='dummy')],axis=1)\n",
    "\n",
    "mod = smf.ols('MEDV ~ dummy_HIGH + dummy_LOW', data=df_housing) # Define model\n",
    "res_2 = mod.fit() # Fit using OLS\n",
    "print(res_2.summary())"
   ]
  },
  {
   "cell_type": "markdown",
   "id": "atlantic-junior",
   "metadata": {},
   "source": [
    "In our OLS model we are testing the relationship between MEDV and three dummy variables created that represent different values for NOXCAT; LOW, MED and HIGH. We have coded our dummy variable such that the Intercept is the MEDIUM dummy variable where both other dummy variables are 0.  \n",
    "\n",
    "Observing an F-statistic of 55.26 we can determine the model fit is significant. For every 1 value increase in HIGH NOXCAT, there is a -8.2675 change in MEDV. There are no LOW NOXCAT values in our data set therefore we cannot report any relationship to MEDV for this category. Across both the Intercept and dummy_HIGH variable, we report a p value of <0.000 therefore supporting rejection of the null hypothesis. "
   ]
  },
  {
   "cell_type": "markdown",
   "id": "violent-slide",
   "metadata": {},
   "source": [
    "## Exercise 3 (4.5 marks): Classification"
   ]
  },
  {
   "cell_type": "markdown",
   "id": "bright-general",
   "metadata": {},
   "source": [
    "### Exercise 3.1 (2 marks)\n",
    "- Create a new numerical column called `MEDVBIN` in `df_housing`. The column takes on the value `1` if `MEDV` is greater than the median of `MEDV`. Otherwise, it takes on the value `0`.\n",
    "- Perform a logistic regression that regresses the newly created column `MEDVBIN` on `CRIM`, `RM`, `NOX`, `DIS` and `AGE` in order to predict the probability that a house has a high `MEDV`. Save the regression results as `res_3` and `print` the results to the console.\n",
    "- Report the results of the logistic regression `res_3` in APA style, including reporting of AIC, and then interpret the coefficients in your own words. How are this regression and its results different from `res_1` done in Exercise 2.1?\n",
    "\n",
    "Hint: Use [`statsmodels.formula.api.logit`](https://www.statsmodels.org/stable/generated/statsmodels.formula.api.logit.html) to perform the regression."
   ]
  },
  {
   "cell_type": "code",
   "execution_count": 312,
   "id": "racial-cowboy",
   "metadata": {
    "scrolled": false
   },
   "outputs": [
    {
     "name": "stdout",
     "output_type": "stream",
     "text": [
      "Optimization terminated successfully.\n",
      "         Current function value: 0.394887\n",
      "         Iterations 8\n",
      "                           Logit Regression Results                           \n",
      "==============================================================================\n",
      "Dep. Variable:                MEDVBIN   No. Observations:                  506\n",
      "Model:                          Logit   Df Residuals:                      500\n",
      "Method:                           MLE   Df Model:                            5\n",
      "Date:                Sun, 10 Oct 2021   Pseudo R-squ.:                  0.4302\n",
      "Time:                        21:06:51   Log-Likelihood:                -199.81\n",
      "converged:                       True   LL-Null:                       -350.70\n",
      "Covariance Type:            nonrobust   LLR p-value:                 4.174e-63\n",
      "==============================================================================\n",
      "                 coef    std err          z      P>|z|      [0.025      0.975]\n",
      "------------------------------------------------------------------------------\n",
      "Intercept    -10.1635      2.442     -4.162      0.000     -14.950      -5.378\n",
      "CRIM          -0.1627      0.046     -3.555      0.000      -0.252      -0.073\n",
      "RM             2.7538      0.337      8.166      0.000       2.093       3.415\n",
      "NOX           -3.3887      2.177     -1.556      0.120      -7.656       0.879\n",
      "DIS           -0.4394      0.100     -4.406      0.000      -0.635      -0.244\n",
      "AGE           -0.0457      0.008     -5.790      0.000      -0.061      -0.030\n",
      "==============================================================================\n",
      "AIC =  411.62594168972043\n"
     ]
    }
   ],
   "source": [
    "df_housing = df_housing.assign(MEDVBIN = np.where(df_housing['MEDV'] <= df_housing['MEDV'].median(), 0, 1))\n",
    "mod = smf.logit('MEDVBIN ~ CRIM + RM + NOX + DIS + AGE', data=df_housing) # Define model\n",
    "res_3 = mod.fit() # Fit using MLE\n",
    "print(res_3.summary())\n",
    "print('AIC = ',res_3.aic)"
   ]
  },
  {
   "cell_type": "markdown",
   "id": "prescribed-spare",
   "metadata": {},
   "source": [
    "In our model we are testing to predict the MEDV based on selected predictor variables. We observe a significant relationship between the response variable and all coefficients, excluding NOX. For the coefficients with a significant relationship, we validate their significance by considering the z statistic for each, where we can see that all coefficients are sufficiently far enough away from the standard error excluding NOX to be classified as significant relationships. We report a p value of <0.000 across all variables excluding NOX, supporting rejection of the null hypothesis for these predictors.\n",
    "\n",
    "Lastly, we have calculated an Akaike Information Criterion (AIC) for this model at a value of 411.6. AIC is designed to penalise models that utilise too many parameters and risk overfitting. Compared to our model AIC from Excercise 2.1 at 3238, the AIC for our Logit model is significantly lower, therefore presented as a more preferable model. "
   ]
  },
  {
   "cell_type": "markdown",
   "id": "general-syndrome",
   "metadata": {},
   "source": [
    "### Exercise 3.2 (1 mark)\n",
    "Continue from the results `res_3` from the previous exercise by considering the first example listed in `df_housing` (index 0).\n",
    "- Based on the logistic regression model, how likely is it that this house has a `HIGH` `MEDV`? Use the model coefficient estimates and the corresponding values for the first example to calculate its logit and odds. `print` the logits and odds to the console.\n",
    "- What `MEDVBIN` would be predicted for this first example by the model? Look at the actual `MEDVBIN` of this house and describe in your own words how well the model performed in this case.\n",
    "\n",
    "Hint: You can access the coefficient estimates using the [`params`](https://www.statsmodels.org/stable/generated/statsmodels.discrete.discrete_model.BinaryResults.html) attribute of your fitted model."
   ]
  },
  {
   "cell_type": "code",
   "execution_count": 313,
   "id": "harmful-editor",
   "metadata": {},
   "outputs": [
    {
     "name": "stdout",
     "output_type": "stream",
     "text": [
      "Intercept   -10.163528\n",
      "CRIM         -0.162719\n",
      "RM            2.753815\n",
      "NOX          -3.388740\n",
      "DIS          -0.439377\n",
      "AGE          -0.045712\n",
      "dtype: float64\n",
      "3.7619047619047628\n",
      "Odds calculated with probability:[3.7619047619047628]\n",
      "Model prediction probability for first sample:79.27%\n",
      "Model prediction for MEDVBIN:1\n",
      "True value for MEDVBIN:1\n"
     ]
    }
   ],
   "source": [
    "# model coefficient estimate log odds \n",
    "print(res_3.params)\n",
    "# manually calculated odds \n",
    "samp1_odds = .79/(1-.79)\n",
    "print(samp1_odds)\n",
    "print(\"Odds calculated with probability:{}\".format([samp1_odds]))\n",
    "\n",
    "# probability prediction \n",
    "df_housing = df_housing.assign(MEDVBIN_PROB = res_3.predict())\n",
    "# highval MEDV prediction\n",
    "df_housing = df_housing.assign(MEDVBIN_PRED = df_housing['MEDVBIN_PROB'].apply(lambda x: np.where(x > 0.5, 1, 0)))\n",
    "\n",
    "print(\"Model prediction probability for first sample:{:.2f}%\".format(df_housing['MEDVBIN_PROB'][0]*100))\n",
    "print(\"Model prediction for MEDVBIN:{}\".format(df_housing['MEDVBIN_PRED'][0]))\n",
    "print(\"True value for MEDVBIN:{}\".format(df_housing['MEDVBIN'][0]))"
   ]
  },
  {
   "cell_type": "markdown",
   "id": "ambient-germany",
   "metadata": {},
   "source": [
    "Based on our model it is very likely that this house is classified as HIGH MEDV, featuring an estimated probability of .792685. An interpretation can be made for the RM estimated coefficient, where for every unit increase in RM, the log odds of the sample being a HIGH MEDV property increases by 2.753815. The model has predicted the first sample to be classified as a HIGH MEDV property, which is accurate when compared to the training data calculation for MEDVBIN.  "
   ]
  },
  {
   "cell_type": "markdown",
   "id": "continuous-reasoning",
   "metadata": {},
   "source": [
    "### Exercise 3.3 (1.5 marks)\n",
    "We would like to know not only how well the logistic regression model `res_3` did for the first example, but for our entire dataset.\n",
    "- Use `res_3` to predict the probabilities of `MEDVBIN` being `1`, and save them as a new column `MEDVBIN_PROB` in `df_housing`.\n",
    "- Generate the actual model predictions as a new column `MEDVBIN_PRED` in `df_housing` by setting them to `1` if the predicted probability `MEDVBIN_PROB` is greater than `0.5`, and to `0` otherwise. \n",
    "- Create a confusion matrix `conf_mat` for the results generated by `res_3` to tabulate the predictions `MEDVBIN_PRED` and actual values `MEDVBIN`. `print` `conf_mat` to the console.\n",
    "- Based on `conf_mat`, calculate sensitivity, specificity, and accuracy. `print` these values to the console as a grammatically correct sentence.\n",
    "- In you own words, interpret sensitivity, specificity, and accuracy.\n",
    "\n",
    "Hint: Look at the [`predict`](https://www.statsmodels.org/stable/generated/statsmodels.discrete.discrete_model.BinaryResults.html) method of your fitted model for generating the predictions. Also look at [`pd.crosstab`](https://pandas.pydata.org/docs/reference/api/pandas.crosstab.html)."
   ]
  },
  {
   "cell_type": "code",
   "execution_count": 314,
   "id": "vocal-brown",
   "metadata": {
    "scrolled": true
   },
   "outputs": [
    {
     "name": "stdout",
     "output_type": "stream",
     "text": [
      "Actual       0    1  All\n",
      "Predicted               \n",
      "0          218   45  263\n",
      "1           38  205  243\n",
      "All        256  250  506\n",
      "For our model we have calculated the ratios of correct and incorrect predictions as Sensitivity=82.00%; Specificity=85.16% and Accuracy=83.60%.\n"
     ]
    }
   ],
   "source": [
    "# probability prediction \n",
    "df_housing = df_housing.assign(MEDVBIN_PROB = res_3.predict())\n",
    "# highval MEDV prediction\n",
    "df_housing = df_housing.assign(MEDVBIN_PRED = df_housing['MEDVBIN_PROB'].apply(lambda x: np.where(x > 0.5, 1, 0)))\n",
    "\n",
    "# confusion matrix\n",
    "conf_mat = pd.crosstab(df_housing['MEDVBIN_PRED'], df_housing['MEDVBIN'], rownames=['Predicted'], colnames=['Actual'], margins=True)\n",
    "print(conf_mat)\n",
    "\n",
    "# calculating prediction accuracy \n",
    "sensitivity = conf_mat.loc[True, True]/conf_mat.loc['All', True]\n",
    "specificity = conf_mat.loc[False, False]/conf_mat.loc['All', False]\n",
    "accuracy = (conf_mat.loc[True, True]+conf_mat.loc[False, False])/conf_mat.loc['All','All']\n",
    "print(\"For our model we have calculated the ratios of correct and incorrect predictions as Sensitivity={:.2f}%; Specificity={:.2f}% and Accuracy={:.2f}%.\".format(sensitivity*100, specificity*100,accuracy*100))"
   ]
  },
  {
   "cell_type": "markdown",
   "id": "domestic-handbook",
   "metadata": {},
   "source": [
    "Sensitivity, specificity and accuracy refer to the percentages of correct and incorrect predictions against the response variable true classification. In our model we observed a true positive prediction classifiction of 82% (sensitivity) and a true negative prediction classification of 85.16% (specificity). By dividing the total number of correctly predicted classifications by the total number of samples, we can report an overall model accuracy figure which in our case is 83.60% (accuracy). The slightly higher specificity compared to the sensitivity tells us that the model was able to more effectively use predictors to determine properties that were not classified as high value in our training data than those that were. "
   ]
  },
  {
   "cell_type": "code",
   "execution_count": null,
   "id": "e269e980",
   "metadata": {},
   "outputs": [],
   "source": []
  }
 ],
 "metadata": {
  "kernelspec": {
   "display_name": "Python 3",
   "language": "python",
   "name": "python3"
  },
  "language_info": {
   "codemirror_mode": {
    "name": "ipython",
    "version": 3
   },
   "file_extension": ".py",
   "mimetype": "text/x-python",
   "name": "python",
   "nbconvert_exporter": "python",
   "pygments_lexer": "ipython3",
   "version": "3.8.8"
  }
 },
 "nbformat": 4,
 "nbformat_minor": 5
}
