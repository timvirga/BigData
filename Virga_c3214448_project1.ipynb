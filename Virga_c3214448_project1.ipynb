{
 "cells": [
  {
   "cell_type": "markdown",
   "metadata": {},
   "source": [
    "# Big Data - Lab Project 1\n",
    "This lab project covers the material from Lectures 1-3. Please make yourself familiar with the lecture content before proceeding. We will be using the [**Pokemon with stats**](https://www.kaggle.com/abcsds/pokemon) dataset courtesy of Alberto Barradas on Kaggle.\n",
    "\n",
    "**<u>How to complete</u>**:\n",
    "- For each exercise, read the objective and hint, and then fill the cells containing **TODO**. These will usually be code cells requiring you to write Python code. If we ask you to explain something in plaintext, these may also be Markdown cells.\n",
    "- Do not modify any cells except for the ones containing **TODO**.\n",
    "- Do not add or delete any cells from the notebook. If you add any cells during your work, please remove them before submitting.\n",
    "- Allowed libraries are imported below. No additional libraries may be used for this lab project.\n",
    "- **Run all cells before submitting. You will only get marks for code that has been run, and has not produced any errors.**"
   ]
  },
  {
   "cell_type": "code",
   "execution_count": 5,
   "metadata": {},
   "outputs": [],
   "source": [
    "import pandas as pd\n",
    "import numpy as np\n",
    "import matplotlib.pyplot as plt"
   ]
  },
  {
   "cell_type": "markdown",
   "metadata": {},
   "source": [
    "## Exercise 1: Dataset Import and Exploration (3 marks)"
   ]
  },
  {
   "cell_type": "markdown",
   "metadata": {},
   "source": [
    "### Exercise 1.1 (1 mark)\n",
    "Use pandas to read in the dataset `pokemon.csv` as a pandas `DataFrame` named `df_pokemon`.\n",
    "\n",
    "Hint: Look at the function [`pd.read_csv`](https://pandas.pydata.org/pandas-docs/stable/reference/api/pandas.read_csv.html)."
   ]
  },
  {
   "cell_type": "code",
   "execution_count": 6,
   "metadata": {
    "scrolled": true
   },
   "outputs": [],
   "source": [
    "df_pokemon = pd.read_csv(\"pokemon.csv\")"
   ]
  },
  {
   "cell_type": "markdown",
   "metadata": {},
   "source": [
    "### Exercise 1.2 (1 mark)\n",
    "- Use the `print` command to display the number of rows and columns in `df_pokemon`, formatted as a gramatically correct sentence.\n",
    "- Get an idea of the dataset content by printing the first four rows to the console.\n",
    "\n",
    "Hint: Look at Python string formatting and the function [`pd.DataFrame.head`](https://pandas.pydata.org/docs/reference/api/pandas.DataFrame.head.html)."
   ]
  },
  {
   "cell_type": "code",
   "execution_count": 7,
   "metadata": {},
   "outputs": [
    {
     "name": "stdout",
     "output_type": "stream",
     "text": [
      "The number of columns for df_pokemon is 13 and the number of rows is 800.\n"
     ]
    }
   ],
   "source": [
    "rows = len(df_pokemon.axes[0])\n",
    "cols = len(df_pokemon.axes[1])\n",
    "print(\"The number of columns for df_pokemon is {} and the number of rows is {}.\".format(cols,rows))"
   ]
  },
  {
   "cell_type": "markdown",
   "metadata": {},
   "source": [
    "### Exercise 1.3 (1 mark)\n",
    "- Use pandas to test if there are any `null` values in `df_pokemon`. Print the result to the console as a boolean.\n",
    "- Create a new version `df_pokemon_co` of `df_pokemon` which excludes all observations affected by missing data. Use the `print` command to display the number of complete observations to the console, formatted as a gramatically correct sentence.\n",
    "\n",
    "Hint: Look at the functions [`pd.isnull`](https://pandas.pydata.org/docs/reference/api/pandas.isnull.html) and [`pd.DataFrame.any`](https://pandas.pydata.org/docs/reference/api/pandas.DataFrame.any.html)."
   ]
  },
  {
   "cell_type": "code",
   "execution_count": 8,
   "metadata": {},
   "outputs": [
    {
     "name": "stdout",
     "output_type": "stream",
     "text": [
      "The remaining observations without NULL values is 414.\n"
     ]
    }
   ],
   "source": [
    "df_pokemon.isnull().any()\n",
    "df_pokemon_co = df_pokemon.dropna()\n",
    "df_pokemon_co.isnull().any()\n",
    "obs = len(df_pokemon_co)\n",
    "print(\"The remaining observations without NULL values is {}.\".format(obs))"
   ]
  },
  {
   "cell_type": "markdown",
   "metadata": {},
   "source": [
    "## Exercise 2: Basic Statistics (3 marks)"
   ]
  },
  {
   "cell_type": "markdown",
   "metadata": {},
   "source": [
    "### Exercise 2.1 (1 mark)\n",
    "- Using `df_pokemon_co`, calculate the mean `HP` for legendary and not-legendary pokemon. Store these two means into separate variables.\n",
    "- Use the `print` command to display the difference in mean `HP` between legendary and not-legendary pokemon to the console in a grammatically correct sentence. The difference should be rounded to two digits.\n",
    "\n",
    "Hint: Look up how to use rounding in Python string formatting, and at the function [`np.mean`](https://numpy.org/doc/stable/reference/generated/numpy.mean.html) or [`pd.DataFrame.mean`](https://pandas.pydata.org/docs/reference/api/pandas.DataFrame.mean.html)."
   ]
  },
  {
   "cell_type": "code",
   "execution_count": 9,
   "metadata": {},
   "outputs": [
    {
     "name": "stdout",
     "output_type": "stream",
     "text": [
      "The difference between mean 'HP' for legendary pokemon 96.425 and non-legendary pokemon 67.89304812834224 is 28.53.\n"
     ]
    }
   ],
   "source": [
    "df_pokemon_co.head()\n",
    "hp_mean_leg = np.mean(df_pokemon_co[df_pokemon_co[\"Legendary\"]==\"Legendary\"][\"HP\"])\n",
    "hp_mean_nonleg = np.mean(df_pokemon_co[df_pokemon_co[\"Legendary\"]==\"NotLegendary\"][\"HP\"])\n",
    "mean_hp_diff = hp_mean_leg - hp_mean_nonleg\n",
    "\n",
    "print(\"The difference between mean 'HP' for legendary pokemon {} and non-legendary pokemon {} is {:.2f}.\".format(hp_mean_leg,hp_mean_nonleg,mean_hp_diff))"
   ]
  },
  {
   "cell_type": "markdown",
   "metadata": {},
   "source": [
    "### Exercise 2.2 (1 mark)\n",
    "Calculate the variance and the standard deviation of the variable `Attack` for pokemon of `Generation` 1, based on `df_pokemon_co`. Use the `print` command to display the results on the console, rounded to two decimals.\n",
    "\n",
    "Hint: Look up how to use rounding in Python string formatting, and at the function [`np.var`](https://numpy.org/doc/stable/reference/generated/numpy.var.html) and [`np.std`](https://numpy.org/doc/stable/reference/generated/numpy.std.html) or [`pd.DataFrame.var`](https://pandas.pydata.org/docs/reference/api/pandas.DataFrame.var.html) and [`pd.DataFrame.std`](https://pandas.pydata.org/docs/reference/api/pandas.DataFrame.std.html)."
   ]
  },
  {
   "cell_type": "code",
   "execution_count": 10,
   "metadata": {},
   "outputs": [
    {
     "name": "stdout",
     "output_type": "stream",
     "text": [
      "1024.83\n",
      "32.01\n"
     ]
    }
   ],
   "source": [
    "df_pokemon_co.var = np.var(df_pokemon_co[df_pokemon_co[\"Generation\"]==1][\"Attack\"])\n",
    "df_pokemon_co.std = np.std(df_pokemon_co[df_pokemon_co[\"Generation\"]==1][\"Attack\"])\n",
    "print(round(df_pokemon_co.var, 2))\n",
    "print(round(df_pokemon_co.std, 2))"
   ]
  },
  {
   "cell_type": "markdown",
   "metadata": {},
   "source": [
    "### Exercise 2.3 (1 mark)\n",
    "- Calculate the standard error (of the mean) for the variable `Attack` for pokemon of `Generation` 1, based on `df_pokemon_co`, and print it to the console.\n",
    "- In your own words, describe the difference between a standard error (of the mean) and a standard deviation.\n",
    "\n",
    "Hint: You can use the formulation of the standard error as a lambda function from Lecture 2."
   ]
  },
  {
   "cell_type": "code",
   "execution_count": 11,
   "metadata": {
    "scrolled": false
   },
   "outputs": [
    {
     "data": {
      "text/plain": [
       "3.6247541336448013"
      ]
     },
     "execution_count": 11,
     "metadata": {},
     "output_type": "execute_result"
    }
   ],
   "source": [
    "stderr = lambda x: np.sqrt(np.var(x)/x.shape[0]) # standard error lambda function\n",
    "stderr(df_pokemon_co[df_pokemon_co[\"Generation\"]==1][\"Attack\"])"
   ]
  },
  {
   "cell_type": "markdown",
   "metadata": {},
   "source": [
    "The difference between Standard Deviation and Standard Error (of the mean) is that the standard deviation is a statistic that is used to determine the deviation from the mean for a normally distributed data set, where as the Standard Error (of the mean) refers to how precise the standard deviation is when compared to the true population of the data set.  "
   ]
  },
  {
   "cell_type": "markdown",
   "metadata": {},
   "source": [
    "## Exercise 3: Visualisation (4 marks)"
   ]
  },
  {
   "cell_type": "markdown",
   "metadata": {},
   "source": [
    "### Exercise 3.1 (2 marks)\n",
    "Use `matplotlib` to create a boxplot that shows the `Total` attribute for pokemons by their `Type1` categorisation. You should use `df_pokemon_co` for this, and furthermore only consider pokemon whose `Type1` is either *Grass*, *Fire*, *Normal*, *Water*, or *Flying*. The `Total` attribute should be shown on the x axis. Please use an appropriate title and axis labels.\n",
    "\n",
    "Hint: Look at [`plt.boxplot`](https://matplotlib.org/stable/api/_as_gen/matplotlib.pyplot.boxplot.html)."
   ]
  },
  {
   "cell_type": "code",
   "execution_count": 12,
   "metadata": {
    "scrolled": true
   },
   "outputs": [
    {
     "data": {
      "image/png": "[encoded data removed]",
      "text/plain": [
       "<Figure size 720x216 with 1 Axes>"
      ]
     },
     "metadata": {
      "needs_background": "light"
     },
     "output_type": "display_data"
    }
   ],
   "source": [
    "plotlabels = ['Grass','Fire','Normal','Flying']\n",
    "plotdata = [df_pokemon_co[df_pokemon_co['Type1']==label]['Total'] for label in plotlabels]\n",
    "plt.figure(figsize=(10, 3)) # Specify figure size\n",
    "plt.boxplot(plotdata, labels=plotlabels, vert=True, widths=0.5, zorder=3) # Box plot\n",
    "plt.xlabel('Total') # Set the label for the x axis\n",
    "plt.ylabel('Type1 Attribute') # Set the label for the y axis\n",
    "plt.title('\"Total\" attribute by \"Type1\" category') # Set the figure title\n",
    "plt.grid(zorder=0) # Add grid\n",
    "plt.show()\n"
   ]
  },
  {
   "cell_type": "markdown",
   "metadata": {},
   "source": [
    "### Exercise 3.2 (2 marks)\n",
    "Use `matplotlib` to create a scatterplot of the `Attack` (on x Axis) and `Defense` (on y Axis) attributes for pokemons in `df_pokemon_co`. Distinguish between `Legendary` (in color *Red*) and `NotLegendary` (in color *Blue*) pokemon. Please use an appropriate title and axis labels, as well as a legend.\n",
    "\n",
    "Hint: Look at [`plt.scatter`](https://matplotlib.org/stable/api/_as_gen/matplotlib.pyplot.scatter.html)."
   ]
  },
  {
   "cell_type": "code",
   "execution_count": 13,
   "metadata": {},
   "outputs": [
    {
     "data": {
      "image/png": "[encoded data removed]",
      "text/plain": [
       "<Figure size 720x720 with 1 Axes>"
      ]
     },
     "metadata": {
      "needs_background": "light"
     },
     "output_type": "display_data"
    }
   ],
   "source": [
    "plotlabels = np.sort(df_pokemon_co['Legendary'].unique())\n",
    "plotdata = [df_pokemon_co[df_pokemon_co['Legendary']==label][['Attack','Defense']] for label in plotlabels]\n",
    "colors = 'red','blue' # Get colors\n",
    "plt.figure(figsize=(10, 10)) # Specify figure size\n",
    "for i, data in enumerate(plotdata):\n",
    "    plt.scatter(data['Attack'],data['Defense'],color=colors[i],label=\"{}\".format(plotlabels[i]))\n",
    "plt.xlabel('Attack') # Set the label for the x axis\n",
    "plt.ylabel('Defense') # Set the label for the y axis\n",
    "plt.title('Scatterplot of Attack ~ Defense for Pokemon types') # Set the figure title\n",
    "plt.legend() # Add legend\n",
    "plt.grid(zorder=0) # Add grid\n",
    "plt.show()"
   ]
  },
  {
   "cell_type": "code",
   "execution_count": null,
   "metadata": {},
   "outputs": [],
   "source": []
  },
  {
   "cell_type": "code",
   "execution_count": null,
   "metadata": {},
   "outputs": [],
   "source": []
  },
  {
   "cell_type": "code",
   "execution_count": null,
   "metadata": {},
   "outputs": [],
   "source": []
  },
  {
   "cell_type": "code",
   "execution_count": null,
   "metadata": {},
   "outputs": [],
   "source": []
  },
  {
   "cell_type": "code",
   "execution_count": null,
   "metadata": {},
   "outputs": [],
   "source": []
  },
  {
   "cell_type": "code",
   "execution_count": null,
   "metadata": {},
   "outputs": [],
   "source": []
  },
  {
   "cell_type": "code",
   "execution_count": null,
   "metadata": {},
   "outputs": [],
   "source": []
  },
  {
   "cell_type": "code",
   "execution_count": null,
   "metadata": {},
   "outputs": [],
   "source": []
  },
  {
   "cell_type": "code",
   "execution_count": null,
   "metadata": {},
   "outputs": [],
   "source": []
  }
 ],
 "metadata": {
  "kernelspec": {
   "display_name": "Python 3",
   "language": "python",
   "name": "python3"
  },
  "language_info": {
   "codemirror_mode": {
    "name": "ipython",
    "version": 3
   },
   "file_extension": ".py",
   "mimetype": "text/x-python",
   "name": "python",
   "nbconvert_exporter": "python",
   "pygments_lexer": "ipython3",
   "version": "3.8.8"
  }
 },
 "nbformat": 4,
 "nbformat_minor": 4
}
